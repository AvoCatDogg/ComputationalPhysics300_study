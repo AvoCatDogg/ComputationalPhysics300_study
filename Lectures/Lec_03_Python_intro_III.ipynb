{
 "cells": [
  {
   "cell_type": "markdown",
   "metadata": {},
   "source": [
    "# Physics 300 \n",
    "## Computational Physics I (Fall 2018)\n",
    "## BPB-248, Mon/Wed 02:30 - 03:45 pm \n",
    "\n",
    "|Instructor| Prof. Qiang Zhu|\n",
    "|--|-------------------------------|\n",
    "|Email | qiang.zhu@unlv.edu|\n",
    "|Website|http://www.physics.unlv.edu/~qzhu/|\n",
    "|Office| BPB 232|\n",
    "|Office hours | Mon/Wed 03:45 - 05:00 pm |\n"
   ]
  },
  {
   "cell_type": "code",
   "execution_count": 1,
   "metadata": {},
   "outputs": [],
   "source": [
    "def factor(N):\n",
    "    if N == 0 or N == 1:\n",
    "        return 1\n",
    "    else: \n",
    "        total = 1\n",
    "        for i in range(2,N+1): \n",
    "            total *= i \n",
    "        return total  "
   ]
  },
  {
   "cell_type": "code",
   "execution_count": 2,
   "metadata": {},
   "outputs": [
    {
     "data": {
      "text/plain": [
       "3628800"
      ]
     },
     "execution_count": 2,
     "metadata": {},
     "output_type": "execute_result"
    }
   ],
   "source": [
    "factor(10)"
   ]
  },
  {
   "cell_type": "code",
   "execution_count": 3,
   "metadata": {},
   "outputs": [
    {
     "name": "stdout",
     "output_type": "stream",
     "text": [
      "3628800\n"
     ]
    }
   ],
   "source": [
    "from sympy import factorial\n",
    "print(factorial(10))"
   ]
  },
  {
   "cell_type": "code",
   "execution_count": 4,
   "metadata": {},
   "outputs": [
    {
     "name": "stdout",
     "output_type": "stream",
     "text": [
      "120\n"
     ]
    }
   ],
   "source": [
    "import sympy as sp\n",
    "print(sp.factorial(5))"
   ]
  },
  {
   "cell_type": "code",
   "execution_count": 5,
   "metadata": {},
   "outputs": [
    {
     "data": {
      "text/latex": [
       "$\\displaystyle 6$"
      ],
      "text/plain": [
       "6"
      ]
     },
     "execution_count": 5,
     "metadata": {},
     "output_type": "execute_result"
    }
   ],
   "source": [
    "q, N = 2, 3\n",
    "sp.binomial(q+N-1, q)"
   ]
  },
  {
   "cell_type": "code",
   "execution_count": 6,
   "metadata": {},
   "outputs": [
    {
     "name": "stdout",
     "output_type": "stream",
     "text": [
      "/Users/qiangzhu/Desktop/github/ComputationalPhysics300/Lectures\n"
     ]
    }
   ],
   "source": [
    "import os\n",
    "print(os.getcwd())"
   ]
  },
  {
   "cell_type": "code",
   "execution_count": 7,
   "metadata": {},
   "outputs": [
    {
     "data": {
      "text/plain": [
       "0"
      ]
     },
     "execution_count": 7,
     "metadata": {},
     "output_type": "execute_result"
    }
   ],
   "source": [
    "os.system('echo 1 > 0.txt')"
   ]
  },
  {
   "cell_type": "markdown",
   "metadata": {},
   "source": [
    "# 3 Python Advanced Programming\n",
    "\n",
    "## 3.1 Python Libraries\n",
    "\n",
    "When one installs python, the standard source distribution has a rich and versatile standard library, \n",
    "which is immediately available, without making the user download separate packages. \n",
    "This gives the Python language a head start in many projects.\n",
    "\n",
    "__However, the standard library modules are not always the best choices for a job.__ \n",
    "\n",
    "Different from Fortran, C or C++, python is the upper language which is aimed to faciliate the programming for\n",
    "the specific task. One could build a code from the scratch based on the basic funcitonality. But a wise way\n",
    "is to call the advanced libraries. Here is the list of them which have been extensively used in different domains.\n",
    "\n",
    "### Operation System interface\n",
    "os, systems\n",
    "\n",
    "### Time\n",
    "time, calendar\n",
    "\n",
    "### Basic Math\n",
    "random, math\n",
    "\n",
    "### Web services\n",
    "urllib, ftplib, xmlrpclib, json\n",
    "\n",
    "### Plot\n",
    "matplotlib\n",
    "\n",
    "### Graphicial User Interface\n",
    "Tkinter, ttk\n",
    "\n",
    "### Scientific Programming\n",
    "numpy, scipy\n",
    "\n",
    "### Machine learning\n",
    "scikit-learn\n",
    "\n",
    "### Database\n",
    "dbm, gdmb, sqlite3\n",
    "\n",
    "For more information, please refer to the python documentation.\n",
    "\n",
    "\n",
    "If python complains that the library doesn't exist,\n",
    "you need to install it from the anaconda prompt by typing\n",
    "\n",
    "$ __conda install numpy__\n",
    "\n",
    "\n",
    "To explore all of them is a mission impossible in this class.\n",
    "\n",
    "If you don't know how to find the right library for your job, __google is always the best friend.__\n",
    "\n",
    "From now on we will mostly focus on _numpy_ and _matplotlib_.\n",
    "\n",
    "\n",
    "To use them, one just need to import in different ways\n",
    "```python\n",
    "import numpy as np        #1, give a short name to the library\n",
    "array = np.zeros(5)       #2, call its subfunction\n",
    "```\n",
    "or \n",
    "\n",
    "```python\n",
    "from numpy import zeros   #1, explicitly import the function from libraray\n",
    "array = zeros(5)          #2, call the function\n",
    "```\n",
    "\n"
   ]
  },
  {
   "cell_type": "code",
   "execution_count": 8,
   "metadata": {},
   "outputs": [
    {
     "name": "stdout",
     "output_type": "stream",
     "text": [
      "[1. 1. 1. 1. 1.] [0. 0. 0. 0. 0.]\n"
     ]
    }
   ],
   "source": [
    "import numpy as np        #1, give a short name to the library\n",
    "array1 = np.ones(5)       #2, call its subfunction\n",
    "array2 = np.zeros(5)       #2, call its subfunction\n",
    "\n",
    "print(array1, array2)"
   ]
  },
  {
   "cell_type": "code",
   "execution_count": 9,
   "metadata": {},
   "outputs": [],
   "source": [
    "#This is a program to simply get the webpage contents\n",
    "import urllib.request\n",
    "import certifi\n",
    "\n",
    "req = urllib.request.Request('https://qzhu2017.github.io')\n",
    "response = urllib.request.urlopen(req, cafile=certifi.where())\n",
    "the_page = response.read().decode()"
   ]
  },
  {
   "cell_type": "code",
   "execution_count": 10,
   "metadata": {
    "scrolled": false
   },
   "outputs": [
    {
     "name": "stdout",
     "output_type": "stream",
     "text": [
      "3\n"
     ]
    }
   ],
   "source": [
    "#print(the_page)\n",
    "print(the_page.count('Qiang Zhu'))"
   ]
  },
  {
   "cell_type": "markdown",
   "metadata": {},
   "source": [
    "## Quiz:\n",
    "    1, How to quickly know the available functions in a library?\n",
    "    2, Which way is better if you want to import the library?"
   ]
  },
  {
   "cell_type": "code",
   "execution_count": 11,
   "metadata": {},
   "outputs": [],
   "source": [
    "#Try to wrte some lines to illustrate how to import the libarary and do something interesting.\n"
   ]
  },
  {
   "cell_type": "markdown",
   "metadata": {},
   "source": [
    "## 3.2 Numpy and matplotlib\n",
    "\n",
    "If you are the matlab user, you will be find these two libararies are very similar to matlab.\n",
    "\n",
    "### NumPy is the fundamental package for scientific computing with Python\n",
    "http://www.numpy.org/\n",
    "\n",
    "    a powerful N-dimensional array object\n",
    "    sophisticated (broadcasting) functions\n",
    "    tools for integrating C/C++ and Fortran code\n",
    "    useful linear algebra, Fourier transform, and random number capabilities\n",
    "\n",
    "### Matplotlib is a Python 2D plotting library for high quality figures\n",
    "https://matplotlib.org/\n",
    "\n",
    "\n",
    "    Python scripts\n",
    "    the Python and IPython shell\n",
    "    the jupyter notebook\n",
    "    web application servers\n",
    "    graphical user interface toolkits.\n",
    "\n",
    "\n",
    "Here is a simple example to make a plot of sin function.\n",
    "```python\n",
    "\n",
    "import numpy as np\n",
    "import matplotlib.pyplot as plt\n",
    "\n",
    "x = np.arange(0, 5, 0.1)\n",
    "y = np.sin(x)\n",
    "plt.plot(x, y)\n",
    "plt.show()\n",
    "\n",
    "```\n"
   ]
  },
  {
   "cell_type": "code",
   "execution_count": 12,
   "metadata": {},
   "outputs": [
    {
     "name": "stdout",
     "output_type": "stream",
     "text": [
      "[0.         0.11111111 0.22222222 0.33333333 0.44444444 0.55555556\n",
      " 0.66666667 0.77777778 0.88888889 1.        ]\n",
      "<class 'numpy.ndarray'>\n"
     ]
    }
   ],
   "source": [
    "# Some basic functions in numpy\n",
    "\n",
    "#1, define an array/matrix\n",
    "\n",
    "import numpy as np\n",
    "array = np.linspace(0,1,10)   #[Start, End, number of splits]#\n",
    "\n",
    "#alternatively, check the following functions\n",
    "#np.arange(0, 5, 0.1);\n",
    "#np.array([1,2,3,4,5,6])\n",
    "#np.zeros([3,3])\n",
    "#np.ones([3,4])\n",
    "#np.eye(5)\n",
    "print(array)\n",
    "print(type(array))"
   ]
  },
  {
   "cell_type": "code",
   "execution_count": 13,
   "metadata": {},
   "outputs": [
    {
     "data": {
      "text/plain": [
       "array([[1., 0., 0., 0., 0.],\n",
       "       [0., 1., 0., 0., 0.],\n",
       "       [0., 0., 1., 0., 0.],\n",
       "       [0., 0., 0., 1., 0.],\n",
       "       [0., 0., 0., 0., 1.]])"
      ]
     },
     "execution_count": 13,
     "metadata": {},
     "output_type": "execute_result"
    }
   ],
   "source": [
    "np.eye(5)"
   ]
  },
  {
   "cell_type": "code",
   "execution_count": 14,
   "metadata": {},
   "outputs": [
    {
     "name": "stdout",
     "output_type": "stream",
     "text": [
      "[0.         0.11111111 0.22222222 0.33333333 0.44444444 0.55555556\n",
      " 0.66666667 0.77777778 0.88888889 1.        ]\n",
      "[0.         0.22222222 0.44444444 0.66666667 0.88888889 1.11111111\n",
      " 1.33333333 1.55555556 1.77777778 2.        ]\n",
      "[0.         0.33333333 0.66666667 1.         1.33333333 1.66666667\n",
      " 2.         2.33333333 2.66666667 3.        ]\n",
      "[1.         1.22222222 1.44444444 1.66666667 1.88888889 2.11111111\n",
      " 2.33333333 2.55555556 2.77777778 3.        ]\n"
     ]
    }
   ],
   "source": [
    "#2, Array/Matrix operation\n",
    "\n",
    "import numpy as np\n",
    "a = np.linspace(0,1,10)   #[Start, End, number of splits]#\n",
    "b = np.linspace(0,2,10)   #[Start, End, number of splits]#\n",
    "print(a)\n",
    "print(b)\n",
    "print(a+b)\n",
    "print(1+b)\n",
    "#alternatively, check the following functions\n",
    "#a-b\n",
    "#np.max(a)\n",
    "#a+1.0\n",
    "#a*b\n",
    "#a_trans = a.transpose()\n",
    "#np.dot(a_trans, b)\n",
    "#dir(np.linalg)\n",
    "#print(a_trans)"
   ]
  },
  {
   "cell_type": "code",
   "execution_count": 15,
   "metadata": {},
   "outputs": [
    {
     "data": {
      "image/png": "[encoded data removed]",
      "text/plain": [
       "<Figure size 432x288 with 1 Axes>"
      ]
     },
     "metadata": {
      "needs_background": "light"
     },
     "output_type": "display_data"
    }
   ],
   "source": [
    "import numpy as np\n",
    "import matplotlib.pyplot as plt\n",
    "plt.rcParams['text.usetex'] = True\n",
    "\n",
    "x = np.linspace(0, 2*np.pi, 20)\n",
    "y = np.sin(x)\n",
    "y1 = np.cos(x)\n",
    "plt.plot(x, y, '.-r', label='sin(x)')\n",
    "plt.plot(x, y1, '.-g', label='cos(x)')\n",
    "\n",
    "#plt.semilogx(x, y, 'dr')\n",
    "#plt.loglog(x,y,'dr')\n",
    "#plt.xlabel('x')\n",
    "#plt.ylabel('y')\n",
    "plt.legend()\n",
    "plt.xlim([0, 2*np.pi])\n",
    "\n",
    "#how to make it, add label/title/lengend, set the range\n",
    "plt.xticks(np.linspace(0, 2*np.pi, 5), \n",
    "           ['0', r'$\\frac{1}{2}\\pi$', '$\\pi$', r'$\\frac{3}{2}\\pi$', r'$2\\pi$'],\n",
    "           fontsize=16)  # Set text labels.\n",
    "plt.yticks(fontsize=16)  \n",
    "plt.show()\n"
   ]
  },
  {
   "cell_type": "code",
   "execution_count": 16,
   "metadata": {},
   "outputs": [],
   "source": [
    "# More examples could be found in https://matplotlib.org/examples/index.html\n",
    "# Try to repeat some of them here"
   ]
  },
  {
   "cell_type": "markdown",
   "metadata": {},
   "source": [
    "## 3.3 Exercise \n",
    "### Combinatorics and Two-state systems\n",
    "\n",
    "Suppose we are flipping three coins. How many possible outcomes are there?\n",
    "\n",
    "|Coin 1 | Coin 2| Coin 3|\n",
    "|:-----:|:-----:|:-----:|\n",
    "|H|H|H|\n",
    "|H|H|T|\n",
    "|H|T|H|\n",
    "|T|H|H|\n",
    "|H|T|T|\n",
    "|T|T|H|\n",
    "|T|H|T|\n",
    "|T|H|T|\n",
    "\n",
    "Since all coins are indistinguishable, we are more interested in how many heads are there in all outcomes?\n",
    "By simply counting the number from the above table, we know\n",
    "\n",
    "3 heads, HHH \n",
    "\n",
    "2 heads, HHT, HTH, THH\n",
    "\n",
    "1 head, HTT, TTH, THT\n",
    "\n",
    "0 head, TTT\n",
    "\n",
    "each state is called _microstate_.\n",
    "\n",
    "_microstate_: Each of the eight different outcomes\n",
    "\n",
    "_macrostate_: How many heads are there in all outcomes\n",
    "\n",
    "Although each microstate is equal to exist, but macrostates have different probabilies to explored. Clearly,\n",
    "2 heads is more likely to be found than 3 heads. Here we introduce another quantity,\n",
    "\n",
    "_multiplicity_ ($\\Omega$): the number of microstates in a given macrostate.\n",
    "\n",
    "In the context of coin games, let's define $\\Omega(n)$ as the number of cases when we get $n$ heads. If the total number\n",
    "of coins is $N$, we can derive the equations as follows,\n",
    "\n",
    "$$\\Omega(N,n) = = \\frac{N!}{n!\\cdot(N-n)!} = \\binom{N}{n}$$\n",
    "\n",
    "Now Let's write a program to calculate and plot the mulplicity as a function of $N$."
   ]
  },
  {
   "cell_type": "code",
   "execution_count": 17,
   "metadata": {},
   "outputs": [
    {
     "name": "stdout",
     "output_type": "stream",
     "text": [
      "type a positive integer value for N: 20\n"
     ]
    },
    {
     "data": {
      "image/png": "[encoded data removed]",
      "text/plain": [
       "<Figure size 432x288 with 1 Axes>"
      ]
     },
     "metadata": {
      "needs_background": "light"
     },
     "output_type": "display_data"
    }
   ],
   "source": [
    "import matplotlib.ticker as mtick\n",
    "import matplotlib.pyplot as plt\n",
    "\n",
    "#Multiplicity calculation\n",
    "def factor(N):\n",
    "    if N == 0 or N == 1:\n",
    "        return 1\n",
    "    else: \n",
    "        total = 1\n",
    "        for i in range(2,N+1):\n",
    "            total *= i\n",
    "        return total     \n",
    "\n",
    "def Multiplicity(N,n):\n",
    "    return factor(N)/factor(n)/factor(N-n)\n",
    "    \n",
    "N=int(input(\"type a positive integer value for N: \"))\n",
    "N_series = range(N+1)     \n",
    "Omega = []\n",
    "\n",
    "for n in N_series:\n",
    "    Omega.append(Multiplicity(N,n))\n",
    "    \n",
    "plt.plot(N_series, Omega)\n",
    "plt.title('N='+str(N))\n",
    "plt.xlabel('n')\n",
    "plt.ylabel('$\\Omega(n)$')\n",
    "\n",
    "plt.show()"
   ]
  },
  {
   "cell_type": "code",
   "execution_count": 18,
   "metadata": {},
   "outputs": [],
   "source": [
    "#Let's copy all the codes to this box and remake a separate function to plot the curve.\n",
    "\n",
    "import matplotlib.ticker as mtick\n",
    "import matplotlib.pyplot as plt\n",
    "\n",
    "#Multiplicity calculation\n",
    "def factor(N):\n",
    "    N = int(N)\n",
    "    total = 1\n",
    "    if N<0:\n",
    "        print('Error, N must be greater than 0')\n",
    "    elif N>1: \n",
    "        for i in range(2,N+1):\n",
    "            total *= i\n",
    "    return total \n",
    "\n",
    "def Multiplicity(N,n):\n",
    "    return factor(N)/factor(n)/factor(N-n)\n",
    "    \n",
    "\n",
    "def Plot_Omega(N):    \n",
    "\n",
    "    N_series = range(N+1)     \n",
    "    Omega = []\n",
    "\n",
    "    for n in N_series:\n",
    "        Omega.append(Multiplicity(N,n))\n",
    "    \n",
    "    plt.plot(N_series, Omega)\n",
    "    plt.title('N='+str(N))\n",
    "    plt.xlabel('n')\n",
    "    plt.ylabel('$\\Omega(n)$')\n",
    "\n",
    "    plt.show()"
   ]
  },
  {
   "cell_type": "code",
   "execution_count": 19,
   "metadata": {},
   "outputs": [
    {
     "data": {
      "image/png": "[encoded data removed]",
      "text/plain": [
       "<Figure size 432x288 with 1 Axes>"
      ]
     },
     "metadata": {
      "needs_background": "light"
     },
     "output_type": "display_data"
    }
   ],
   "source": [
    "# Let's increase the number\n",
    "Plot_Omega(100)"
   ]
  },
  {
   "cell_type": "markdown",
   "metadata": {},
   "source": [
    "## 3.4 Diagnostics\n",
    "Opps, it complains something about the division, it is not allowed to do division between two large integers!\n",
    "Computer always hates division!\n",
    "\n",
    "Let's change it a bit, \n",
    "\n",
    "instead of doing division between two numbers: \n",
    "\n",
    "    N1/N2\n",
    "\n",
    "We can also use log() function to make it easier: \n",
    "\n",
    "    log(N1/N2) = log(N1) - log(N2)\n",
    "\n",
    "untimately, we will have the following expression:\n",
    "\n",
    "    exp(log(N1) - log(N2))"
   ]
  },
  {
   "cell_type": "code",
   "execution_count": 20,
   "metadata": {},
   "outputs": [],
   "source": [
    "import matplotlib.pyplot as plt\n",
    "from math import log, exp\n",
    "\n",
    "#Multiplicity calculation\n",
    "def factor(N):\n",
    "    N = int(N)\n",
    "    total = 1\n",
    "    if N<0:\n",
    "        print('Error, N must be greater than 0')\n",
    "    elif N>1: \n",
    "        for i in range(2,N+1):\n",
    "            total *= i\n",
    "    return total\n",
    "\n",
    "def Multiplicity(N,n):\n",
    "    #return factor(N)/factor(n)/factor(N-n)\n",
    "    return exp(log(factor(N)) - log(factor(n)) - log(factor(N-n))) #change it to log funtion\n",
    "\n",
    "def Plot_Omega2(N):    \n",
    "\n",
    "    N_series = range(N+1)     \n",
    "    Omega = []\n",
    "\n",
    "    for n in N_series:\n",
    "        Omega.append(Multiplicity(N,n))\n",
    "    \n",
    "    plt.plot(N_series, Omega)\n",
    "    plt.title('N='+str(N))\n",
    "    plt.xlabel('n')\n",
    "    plt.ylabel('$\\Omega(n)$')\n",
    "\n",
    "    plt.show()"
   ]
  },
  {
   "cell_type": "code",
   "execution_count": 21,
   "metadata": {},
   "outputs": [
    {
     "data": {
      "image/png": "[encoded data removed]",
      "text/plain": [
       "<Figure size 432x288 with 1 Axes>"
      ]
     },
     "metadata": {
      "needs_background": "light"
     },
     "output_type": "display_data"
    }
   ],
   "source": [
    "Plot_Omega2(10)"
   ]
  },
  {
   "cell_type": "code",
   "execution_count": 22,
   "metadata": {},
   "outputs": [
    {
     "data": {
      "image/png": "[encoded data removed]",
      "text/plain": [
       "<Figure size 432x288 with 1 Axes>"
      ]
     },
     "metadata": {
      "needs_background": "light"
     },
     "output_type": "display_data"
    }
   ],
   "source": [
    "Plot_Omega2(100)"
   ]
  },
  {
   "cell_type": "code",
   "execution_count": 23,
   "metadata": {},
   "outputs": [
    {
     "data": {
      "image/png": "[encoded data removed]",
      "text/plain": [
       "<Figure size 432x288 with 1 Axes>"
      ]
     },
     "metadata": {
      "needs_background": "light"
     },
     "output_type": "display_data"
    }
   ],
   "source": [
    "Plot_Omega2(500)"
   ]
  },
  {
   "cell_type": "markdown",
   "metadata": {},
   "source": [
    "## The underlying physics\n",
    "If we plug in a very large number, any random fluctuation will become unmeasurable. The most-likely macrostates are very localized. Considering a real materail which is composed of tons of atoms or molecules (avogadro number = 6.02$\\times 10^{23}$),\n",
    "the real measurement on the physical properties only gives you a number without large deviation. This is actually due to the large number effects！"
   ]
  },
  {
   "cell_type": "markdown",
   "metadata": {},
   "source": [
    "## 3.5 Homework\n",
    "### Two Interacting Einstein Solids\n",
    "\n",
    "We already learned that Einstein proposed that a model that each atom is pretty much a harmonic oscillator \n",
    "because it is attached by some springs to the adjacent atoms in the crystal lattice. $N$ is the number of\n",
    "oscillators, while $q$ is the quantized energy for each oscillator.\n",
    "\n",
    "The generalized form to calculate the multiplicity for a give ($N,q$) is \n",
    " $$\\Omega(N, q) = \\binom{q+N-1}{q} = \\frac{(q+N-1)!}{q!(N-1)!}$$\n",
    "    \n",
    "Now let us consider two interacting Einstein solids.\n",
    "\n",
    "\n",
    "Assuming that $A$ and $B$ are weakly coupled (just like ideal gas), the individual energies\n",
    "of the solids, $q_A$ and $q_B$ will change slowly. Under this assumption, the total number of energies $q_\\text{total}$ will\n",
    "be simply the sum of  $q_A$ and $q_B$.\n",
    "\n",
    "\n",
    "\n",
    "To make life easier, let's fix $q_\\text{total}$.\n",
    "\n",
    "What's the $\\Omega$ for any arbitary $q_A$? If we just count $A$,\n",
    " $$\\Omega(A) = \\binom{q_A+N_A-1}{q_A} = \\frac{(q_A+N_A-1)!}{q_A!(N_A-1)!}$$\n",
    " \n",
    "Similarly\n",
    " $$\\Omega(B) = \\binom{q_B+N_B-1}{q_B} = \\frac{(q_B+N_B-1)!}{q_B!(N_B-1)!}$$\n",
    " \n",
    "And the total number follows\n",
    "\n",
    " $$\\Omega(\\text{total}) = \\Omega(A)  \\Omega(B) $$\n",
    "\n",
    "We have the following table when $q_A + q_B = 2, N_A = N_B = 3$.\n",
    "\n",
    "|q(A)| O(A) | q(B) | O(B) | O(total)|\n",
    "|:--:|:-----------:|:----:|:-----------:|:-------:|\n",
    "|0   |      1      |   2  |     3       |    3    |\n",
    "|1   |      3      |   1  |     3       |    9    |\n",
    "|2   |      3      |   0  |     1       |    3    |\n",
    "\n",
    "\n",
    "\n",
    "### Coding:\n",
    "\n",
    "Write a code to calculate as a function of $q_A$, when \n",
    "\n",
    "1, $N_A$=300, $N_B$=200, and $q$=100\n",
    "\n",
    "2, $N_A$=3000, $N_B$=2000, and $q$=100\n",
    "    \n",
    "plot them and try to find some tendency when $N$ increases."
   ]
  },
  {
   "cell_type": "code",
   "execution_count": 24,
   "metadata": {},
   "outputs": [
    {
     "data": {
      "image/png": "[encoded data removed]",
      "text/plain": [
       "<Figure size 432x288 with 1 Axes>"
      ]
     },
     "metadata": {
      "needs_background": "light"
     },
     "output_type": "display_data"
    }
   ],
   "source": [
    "Na = 300\n",
    "Nb = 200\n",
    "q_total = 100\n",
    "qa_list = range(q_total)\n",
    "omega_total = []\n",
    "\n",
    "for qa in qa_list:\n",
    "    qb = q_total - qa\n",
    "    omega_a = Multiplicity(Na, qa)\n",
    "    omega_b = Multiplicity(Nb, qb)\n",
    "    omega_total.append(omega_a*omega_b)\n",
    "plt.plot(qa_list, omega_total)    \n",
    "plt.xlabel('$q_a$')\n",
    "plt.ylabel('$\\Omega$')\n",
    "plt.show()"
   ]
  },
  {
   "cell_type": "code",
   "execution_count": null,
   "metadata": {},
   "outputs": [],
   "source": []
  }
 ],
 "metadata": {
  "@webio": {
   "lastCommId": null,
   "lastKernelId": null
  },
  "kernelspec": {
   "display_name": "Python 3 (ipykernel)",
   "language": "python",
   "name": "python3"
  },
  "language_info": {
   "codemirror_mode": {
    "name": "ipython",
    "version": 3
   },
   "file_extension": ".py",
   "mimetype": "text/x-python",
   "name": "python",
   "nbconvert_exporter": "python",
   "pygments_lexer": "ipython3",
   "version": "3.7.12"
  }
 },
 "nbformat": 4,
 "nbformat_minor": 2
}
